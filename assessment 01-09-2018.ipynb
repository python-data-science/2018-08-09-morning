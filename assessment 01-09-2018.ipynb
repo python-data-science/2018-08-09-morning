{
 "cells": [
  {
   "cell_type": "code",
   "execution_count": null,
   "metadata": {
    "collapsed": true
   },
   "outputs": [],
   "source": [
    "# problem 1\n",
    "# ------------------------------------------------------------------- #\n",
    "people = ['Bob Smith', 'Ken Jones', 'Alex Bradino']\n",
    "order = 'a'\n",
    "\n",
    "def sort_by_last_name(people, order):\n",
    "    # return full names sorted by last name in either ascending or descending order\n",
    "    # add doctests make sure it passes\n",
    "    pass\n",
    "\n"
   ]
  },
  {
   "cell_type": "code",
   "execution_count": null,
   "metadata": {
    "collapsed": true
   },
   "outputs": [],
   "source": [
    "people = ['Bob Smith', 'Ken Jones', 'Alex Bradino']\n",
    "order = 'a'\n"
   ]
  },
  {
   "cell_type": "code",
   "execution_count": null,
   "metadata": {
    "collapsed": true
   },
   "outputs": [],
   "source": []
  },
  {
   "cell_type": "code",
   "execution_count": 27,
   "metadata": {
    "collapsed": true
   },
   "outputs": [],
   "source": [
    "# problem 2\n",
    "# ------------------------------------------------------------------- #\n",
    "names = ['James', 'Susan', 'Maggie']\n",
    "ages = [4, 9, 12]\n",
    "\n",
    "def create_dictionary_from_lists(names, ages):\n",
    "    # {'James':4, 'Susan':9, 'Maggie':12}\n",
    "    # add doctests make sure it passes\n",
    "    names_dict = {}\n",
    "    for key, val in zip(names, ages):\n",
    "        names_dict[key] = val\n",
    "    return names_dict"
   ]
  },
  {
   "cell_type": "code",
   "execution_count": 28,
   "metadata": {},
   "outputs": [
    {
     "data": {
      "text/plain": [
       "{'James': 4, 'Maggie': 12, 'Susan': 9}"
      ]
     },
     "execution_count": 28,
     "metadata": {},
     "output_type": "execute_result"
    }
   ],
   "source": [
    "names = ['James', 'Susan', 'Maggie']\n",
    "ages = [4, 9, 12]\n",
    "create_dictionary_from_lists(names, ages)\n"
   ]
  },
  {
   "cell_type": "code",
   "execution_count": null,
   "metadata": {
    "collapsed": true
   },
   "outputs": [],
   "source": []
  },
  {
   "cell_type": "code",
   "execution_count": 21,
   "metadata": {
    "collapsed": true
   },
   "outputs": [],
   "source": [
    "# problem 3\n",
    "# ------------------------------------------------------------------- #\n",
    "numbers = [5, 6, 7, 8, 9, 10, 11, 12]\n",
    "\n",
    "\n",
    "def square_even_values_and_sum_under_10(numbers):\n",
    "    \"\"\"take the even numbers less than 10 in a list and square them..\n",
    "    argument: List of numbers\n",
    "    return:   List of squares of the input even numbers less than 10\n",
    "    square_even_values_and_sum_under_10([5, 6, 7, 8, 9, 10, 11, 12])\n",
    "    \"\"\"\n",
    "    # 6^2 + 8^2]\n",
    "    total = 0\n",
    "    for num in numbers:\n",
    "        if num < 10:\n",
    "            if num%2 == 0:\n",
    "                total = total + (num**2)\n",
    "    return total\n",
    "        \n",
    "        \n",
    "            \n",
    "    "
   ]
  },
  {
   "cell_type": "code",
   "execution_count": 22,
   "metadata": {},
   "outputs": [
    {
     "data": {
      "text/plain": [
       "100"
      ]
     },
     "execution_count": 22,
     "metadata": {},
     "output_type": "execute_result"
    }
   ],
   "source": [
    "square_even_values_and_sum_under_10([5, 6, 7, 8, 9, 10, 11, 12])"
   ]
  },
  {
   "cell_type": "code",
   "execution_count": null,
   "metadata": {
    "collapsed": true
   },
   "outputs": [],
   "source": []
  }
 ],
 "metadata": {
  "kernelspec": {
   "display_name": "Python 3",
   "language": "python",
   "name": "python3"
  },
  "language_info": {
   "codemirror_mode": {
    "name": "ipython",
    "version": 3
   },
   "file_extension": ".py",
   "mimetype": "text/x-python",
   "name": "python",
   "nbconvert_exporter": "python",
   "pygments_lexer": "ipython3",
   "version": "3.6.3"
  }
 },
 "nbformat": 4,
 "nbformat_minor": 2
}
